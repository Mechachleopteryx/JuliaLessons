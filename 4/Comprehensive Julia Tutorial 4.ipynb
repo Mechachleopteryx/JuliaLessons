{
 "cells": [
  {
   "cell_type": "markdown",
   "metadata": {},
   "source": [
    "# The bread and butter of Julia\n",
    "Congratulations! If you've made it this far in the tutorial series, you are officially familiar with the basic elements of programming! Of course, these skills will need to be honed overtime, and you will of course get better at using these concepts as you practice. However, now we can start getting into what is unique and great about the Julia programming language against other programming languages."
   ]
  },
  {
   "cell_type": "markdown",
   "metadata": {},
   "source": [
    "## The power of the equals sign"
   ]
  },
  {
   "cell_type": "code",
   "execution_count": null,
   "metadata": {},
   "outputs": [],
   "source": [
    "function std(array3)\n",
    "    m = mean(array3)\n",
    "    [i = (i-m) ^ 2 for i in array3]\n",
    "    m = mean(array3)\n",
    "    m = sqrt(Complex(m))\n",
    "    return(m)\n",
    "end"
   ]
  },
  {
   "cell_type": "code",
   "execution_count": null,
   "metadata": {},
   "outputs": [],
   "source": []
  },
  {
   "cell_type": "code",
   "execution_count": null,
   "metadata": {},
   "outputs": [],
   "source": [
    "function Normalize(array)\n",
    "    q = std(array)\n",
    "    avg = mean(array)\n",
    "    [i = (i-avg) / q for i in array]\n",
    "end"
   ]
  },
  {
   "cell_type": "code",
   "execution_count": null,
   "metadata": {},
   "outputs": [],
   "source": [
    "Normalize([5,10,15])"
   ]
  },
  {
   "cell_type": "code",
   "execution_count": null,
   "metadata": {},
   "outputs": [],
   "source": [
    "function print_symbol(symb)\n",
    "    symb = string(symb)\n",
    "    for char in symb\n",
    "        println(char)\n",
    "    end\n",
    "end"
   ]
  },
  {
   "cell_type": "code",
   "execution_count": null,
   "metadata": {},
   "outputs": [],
   "source": [
    "function print_string(str)\n",
    "    for char in str\n",
    "        println(char)\n",
    "    end\n",
    "end"
   ]
  },
  {
   "cell_type": "code",
   "execution_count": null,
   "metadata": {},
   "outputs": [],
   "source": []
  }
 ],
 "metadata": {
  "@webio": {
   "lastCommId": null,
   "lastKernelId": null
  },
  "kernelspec": {
   "display_name": "Julia 1.5.2",
   "language": "julia",
   "name": "julia-1.5"
  },
  "language_info": {
   "file_extension": ".jl",
   "mimetype": "application/julia",
   "name": "julia",
   "version": "1.5.2"
  }
 },
 "nbformat": 4,
 "nbformat_minor": 2
}
